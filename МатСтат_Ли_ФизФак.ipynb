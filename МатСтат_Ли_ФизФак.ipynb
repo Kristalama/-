{
 "cells": [
  {
   "cell_type": "markdown",
   "id": "0d3c43fe",
   "metadata": {},
   "source": [
    "# Задание 1"
   ]
  },
  {
   "cell_type": "markdown",
   "id": "88b2898a",
   "metadata": {},
   "source": [
    "Задание: по *каждой* авиакомпании оценить *вероятность* того, что задержка *прилета* \n",
    "    будет положительной и нарисовать график, показывающий распределение этой вероятности по авиакомпаниям."
   ]
  },
  {
   "cell_type": "code",
   "execution_count": 50,
   "id": "5bec1e24",
   "metadata": {},
   "outputs": [
    {
     "data": {
      "image/png": "[encoded data removed]",
      "text/plain": [
       "<Figure size 700x400 with 1 Axes>"
      ]
     },
     "metadata": {},
     "output_type": "display_data"
    },
    {
     "data": {
      "text/html": [
       "<div>\n",
       "<style scoped>\n",
       "    .dataframe tbody tr th:only-of-type {\n",
       "        vertical-align: middle;\n",
       "    }\n",
       "\n",
       "    .dataframe tbody tr th {\n",
       "        vertical-align: top;\n",
       "    }\n",
       "\n",
       "    .dataframe thead th {\n",
       "        text-align: right;\n",
       "    }\n",
       "</style>\n",
       "<table border=\"1\" class=\"dataframe\">\n",
       "  <thead>\n",
       "    <tr style=\"text-align: right;\">\n",
       "      <th></th>\n",
       "      <th>year</th>\n",
       "      <th>month</th>\n",
       "      <th>day</th>\n",
       "      <th>dep_time</th>\n",
       "      <th>dep_delay</th>\n",
       "      <th>arr_time</th>\n",
       "      <th>arr_delay</th>\n",
       "      <th>carrier</th>\n",
       "      <th>tailnum</th>\n",
       "      <th>flight</th>\n",
       "      <th>origin</th>\n",
       "      <th>dest</th>\n",
       "      <th>air_time</th>\n",
       "      <th>distance</th>\n",
       "    </tr>\n",
       "  </thead>\n",
       "  <tbody>\n",
       "    <tr>\n",
       "      <th>0</th>\n",
       "      <td>2013</td>\n",
       "      <td>1</td>\n",
       "      <td>1</td>\n",
       "      <td>517.0</td>\n",
       "      <td>2.0</td>\n",
       "      <td>830.0</td>\n",
       "      <td>11.0</td>\n",
       "      <td>UA</td>\n",
       "      <td>N14228</td>\n",
       "      <td>1545</td>\n",
       "      <td>EWR</td>\n",
       "      <td>IAH</td>\n",
       "      <td>227.0</td>\n",
       "      <td>1400</td>\n",
       "    </tr>\n",
       "    <tr>\n",
       "      <th>1</th>\n",
       "      <td>2013</td>\n",
       "      <td>1</td>\n",
       "      <td>1</td>\n",
       "      <td>533.0</td>\n",
       "      <td>4.0</td>\n",
       "      <td>850.0</td>\n",
       "      <td>20.0</td>\n",
       "      <td>UA</td>\n",
       "      <td>N24211</td>\n",
       "      <td>1714</td>\n",
       "      <td>LGA</td>\n",
       "      <td>IAH</td>\n",
       "      <td>227.0</td>\n",
       "      <td>1416</td>\n",
       "    </tr>\n",
       "    <tr>\n",
       "      <th>2</th>\n",
       "      <td>2013</td>\n",
       "      <td>1</td>\n",
       "      <td>1</td>\n",
       "      <td>542.0</td>\n",
       "      <td>2.0</td>\n",
       "      <td>923.0</td>\n",
       "      <td>33.0</td>\n",
       "      <td>AA</td>\n",
       "      <td>N619AA</td>\n",
       "      <td>1141</td>\n",
       "      <td>JFK</td>\n",
       "      <td>MIA</td>\n",
       "      <td>160.0</td>\n",
       "      <td>1089</td>\n",
       "    </tr>\n",
       "    <tr>\n",
       "      <th>3</th>\n",
       "      <td>2013</td>\n",
       "      <td>1</td>\n",
       "      <td>1</td>\n",
       "      <td>544.0</td>\n",
       "      <td>-1.0</td>\n",
       "      <td>1004.0</td>\n",
       "      <td>-18.0</td>\n",
       "      <td>B6</td>\n",
       "      <td>N804JB</td>\n",
       "      <td>725</td>\n",
       "      <td>JFK</td>\n",
       "      <td>BQN</td>\n",
       "      <td>183.0</td>\n",
       "      <td>1576</td>\n",
       "    </tr>\n",
       "    <tr>\n",
       "      <th>4</th>\n",
       "      <td>2013</td>\n",
       "      <td>1</td>\n",
       "      <td>1</td>\n",
       "      <td>554.0</td>\n",
       "      <td>-6.0</td>\n",
       "      <td>812.0</td>\n",
       "      <td>-25.0</td>\n",
       "      <td>DL</td>\n",
       "      <td>N668DN</td>\n",
       "      <td>461</td>\n",
       "      <td>LGA</td>\n",
       "      <td>ATL</td>\n",
       "      <td>116.0</td>\n",
       "      <td>762</td>\n",
       "    </tr>\n",
       "    <tr>\n",
       "      <th>...</th>\n",
       "      <td>...</td>\n",
       "      <td>...</td>\n",
       "      <td>...</td>\n",
       "      <td>...</td>\n",
       "      <td>...</td>\n",
       "      <td>...</td>\n",
       "      <td>...</td>\n",
       "      <td>...</td>\n",
       "      <td>...</td>\n",
       "      <td>...</td>\n",
       "      <td>...</td>\n",
       "      <td>...</td>\n",
       "      <td>...</td>\n",
       "      <td>...</td>\n",
       "    </tr>\n",
       "    <tr>\n",
       "      <th>336765</th>\n",
       "      <td>2013</td>\n",
       "      <td>9</td>\n",
       "      <td>30</td>\n",
       "      <td>2240.0</td>\n",
       "      <td>-5.0</td>\n",
       "      <td>2334.0</td>\n",
       "      <td>-17.0</td>\n",
       "      <td>B6</td>\n",
       "      <td>N354JB</td>\n",
       "      <td>1816</td>\n",
       "      <td>JFK</td>\n",
       "      <td>SYR</td>\n",
       "      <td>41.0</td>\n",
       "      <td>209</td>\n",
       "    </tr>\n",
       "    <tr>\n",
       "      <th>336766</th>\n",
       "      <td>2013</td>\n",
       "      <td>9</td>\n",
       "      <td>30</td>\n",
       "      <td>2240.0</td>\n",
       "      <td>-10.0</td>\n",
       "      <td>2347.0</td>\n",
       "      <td>-20.0</td>\n",
       "      <td>B6</td>\n",
       "      <td>N281JB</td>\n",
       "      <td>2002</td>\n",
       "      <td>JFK</td>\n",
       "      <td>BUF</td>\n",
       "      <td>52.0</td>\n",
       "      <td>301</td>\n",
       "    </tr>\n",
       "    <tr>\n",
       "      <th>336767</th>\n",
       "      <td>2013</td>\n",
       "      <td>9</td>\n",
       "      <td>30</td>\n",
       "      <td>2241.0</td>\n",
       "      <td>-5.0</td>\n",
       "      <td>2345.0</td>\n",
       "      <td>-16.0</td>\n",
       "      <td>B6</td>\n",
       "      <td>N346JB</td>\n",
       "      <td>486</td>\n",
       "      <td>JFK</td>\n",
       "      <td>ROC</td>\n",
       "      <td>47.0</td>\n",
       "      <td>264</td>\n",
       "    </tr>\n",
       "    <tr>\n",
       "      <th>336768</th>\n",
       "      <td>2013</td>\n",
       "      <td>9</td>\n",
       "      <td>30</td>\n",
       "      <td>2307.0</td>\n",
       "      <td>12.0</td>\n",
       "      <td>2359.0</td>\n",
       "      <td>1.0</td>\n",
       "      <td>B6</td>\n",
       "      <td>N565JB</td>\n",
       "      <td>718</td>\n",
       "      <td>JFK</td>\n",
       "      <td>BOS</td>\n",
       "      <td>33.0</td>\n",
       "      <td>187</td>\n",
       "    </tr>\n",
       "    <tr>\n",
       "      <th>336769</th>\n",
       "      <td>2013</td>\n",
       "      <td>9</td>\n",
       "      <td>30</td>\n",
       "      <td>2349.0</td>\n",
       "      <td>-10.0</td>\n",
       "      <td>325.0</td>\n",
       "      <td>-25.0</td>\n",
       "      <td>B6</td>\n",
       "      <td>N516JB</td>\n",
       "      <td>745</td>\n",
       "      <td>JFK</td>\n",
       "      <td>PSE</td>\n",
       "      <td>196.0</td>\n",
       "      <td>1617</td>\n",
       "    </tr>\n",
       "  </tbody>\n",
       "</table>\n",
       "<p>327346 rows × 14 columns</p>\n",
       "</div>"
      ],
      "text/plain": [
       "        year  month  day  dep_time  dep_delay  arr_time  arr_delay carrier  \\\n",
       "0       2013      1    1     517.0        2.0     830.0       11.0      UA   \n",
       "1       2013      1    1     533.0        4.0     850.0       20.0      UA   \n",
       "2       2013      1    1     542.0        2.0     923.0       33.0      AA   \n",
       "3       2013      1    1     544.0       -1.0    1004.0      -18.0      B6   \n",
       "4       2013      1    1     554.0       -6.0     812.0      -25.0      DL   \n",
       "...      ...    ...  ...       ...        ...       ...        ...     ...   \n",
       "336765  2013      9   30    2240.0       -5.0    2334.0      -17.0      B6   \n",
       "336766  2013      9   30    2240.0      -10.0    2347.0      -20.0      B6   \n",
       "336767  2013      9   30    2241.0       -5.0    2345.0      -16.0      B6   \n",
       "336768  2013      9   30    2307.0       12.0    2359.0        1.0      B6   \n",
       "336769  2013      9   30    2349.0      -10.0     325.0      -25.0      B6   \n",
       "\n",
       "       tailnum  flight origin dest  air_time  distance  \n",
       "0       N14228    1545    EWR  IAH     227.0      1400  \n",
       "1       N24211    1714    LGA  IAH     227.0      1416  \n",
       "2       N619AA    1141    JFK  MIA     160.0      1089  \n",
       "3       N804JB     725    JFK  BQN     183.0      1576  \n",
       "4       N668DN     461    LGA  ATL     116.0       762  \n",
       "...        ...     ...    ...  ...       ...       ...  \n",
       "336765  N354JB    1816    JFK  SYR      41.0       209  \n",
       "336766  N281JB    2002    JFK  BUF      52.0       301  \n",
       "336767  N346JB     486    JFK  ROC      47.0       264  \n",
       "336768  N565JB     718    JFK  BOS      33.0       187  \n",
       "336769  N516JB     745    JFK  PSE     196.0      1617  \n",
       "\n",
       "[327346 rows x 14 columns]"
      ]
     },
     "execution_count": 50,
     "metadata": {},
     "output_type": "execute_result"
    }
   ],
   "source": [
    "import pandas as pd\n",
    "import numpy as np\n",
    "import matplotlib.pyplot as plt\n",
    "\n",
    "df = pd.read_csv('Data\\\\flights_NY.csv').dropna(axis=0)\n",
    "\n",
    "carriers = np.sort(pd.unique(df.carrier)) #Список авиакомпаний\n",
    "LateProb = pd.Series(dtype='float64')  #Сюда заносятся вероятности\n",
    "\n",
    "for carrier in carriers:    \n",
    "    dfLate = df.loc[df.arr_delay > 0].loc[df.carrier == carrier]\n",
    "    late = dfLate.shape[0]\n",
    "    df1 = df.loc[df.carrier == carrier]\n",
    "    total = df1.shape[0]\n",
    "    LateProb[carrier] = late/total\n",
    "    \n",
    "fig1 = plt.figure(figsize=(7,4))\n",
    "ax1 = fig1.add_subplot()\n",
    "ax1.bar(LateProb.index, LateProb)\n",
    "ax1.set_xlabel('Авиакомпания')\n",
    "ax1.set_ylabel('Вероятность задержки прилета')\n",
    "ax1.set_ylim(0, 1)\n",
    "plt.show()\n",
    "df"
   ]
  },
  {
   "cell_type": "markdown",
   "id": "65ec133a",
   "metadata": {},
   "source": [
    "Рис. 1 Распределение вероятности того, что самолёт данной авиакомпании прибудет в точку назначения позже расписания."
   ]
  },
  {
   "cell_type": "markdown",
   "id": "f01a2727",
   "metadata": {},
   "source": [
    "# Задание 2"
   ]
  },
  {
   "cell_type": "markdown",
   "id": "fe4e1501",
   "metadata": {},
   "source": [
    "Задание: постройте гистограмму расстояния перелета distance. \n",
    "\n",
    "1) Выделите на ней три группы перелетов: короткие, средние и длинные. \n",
    "2) Какие значения distance разумно выбрать в качестве границы, разделяющей короткие, средние и длинные перелеты? \n",
    "3) Куда летят самолеты в группе длинных перелетов? \n",
    "4) Найдите среднее время задержки вылета в каждой из трех выделенных групп"
   ]
  },
  {
   "cell_type": "markdown",
   "id": "3cf23c01",
   "metadata": {},
   "source": [
    "1. Построим \"хорошую\" гистограмму, из которой можно выделить важную информацию о полётах"
   ]
  },
  {
   "cell_type": "code",
   "execution_count": 3,
   "id": "2f56fdc4",
   "metadata": {},
   "outputs": [
    {
     "data": {
      "image/png": "[encoded data removed]",
      "text/plain": [
       "<Figure size 1400x400 with 3 Axes>"
      ]
     },
     "metadata": {},
     "output_type": "display_data"
    },
    {
     "data": {
      "image/png": "[encoded data removed]",
      "text/plain": [
       "<Figure size 700x400 with 1 Axes>"
      ]
     },
     "metadata": {},
     "output_type": "display_data"
    },
    {
     "name": "stdout",
     "output_type": "stream",
     "text": [
      "['ABQ' 'BUR' 'BZN' 'EGE' 'HDN' 'JAC' 'LAS' 'LAX' 'LGB' 'MTJ' 'OAK' 'PDX'\n",
      " 'PHX' 'PSP' 'SAN' 'SEA' 'SFO' 'SJC' 'SLC' 'SMF' 'SNA']\n"
     ]
    }
   ],
   "source": [
    "fig2 = plt.figure(figsize=(14,4))\n",
    "ax1 = plt.subplot(1,3,1)\n",
    "ax1.hist(df.distance,25)\n",
    "ax2 = plt.subplot(1,3,2)\n",
    "ax2.hist(df.distance,50)\n",
    "ax3 = plt.subplot(1,3,3)\n",
    "ax3.hist(df.distance,100)\n",
    "\n",
    "df1 = df.loc[df.distance > 1700]\n",
    "\n",
    "fig3 = plt.figure(figsize=(7,4))\n",
    "ax = plt.subplot(1,1,1)\n",
    "ax.hist(df1.distance, 25)\n",
    "\n",
    "\n",
    "short  = df.loc[df.distance < 1700] \n",
    "medium = df.loc[df.distance >= 1700].loc[df.distance < 3000]\n",
    "long   = df.loc[df.distance >= 3000]\n",
    "\n",
    "destinations = np.unique(medium.dest)\n",
    "\n",
    "vals = [len(short), len(medium), len(long)]\n",
    "ax.pie(vals, labels=['Короткие', 'Средние', 'Дальние'])\n",
    "plt.show()\n",
    "\n",
    "print(destinations)"
   ]
  },
  {
   "cell_type": "markdown",
   "id": "c4a822b2",
   "metadata": {},
   "source": [
    "  Из трех гистограмм с различным числом бинов (25, 50 и 100 соответственно) наибольший интерес представляет **первая**. На ней чётко видны дистанции, полёты на которые совершались гораздо реже, чем на более или менее продолжительные. Отсутствие полётов на эти дистанции может говорить об отсутствии крупных аэропортов в этой области (возможно, из-за гор на западной половине США)\n",
    "    \n",
    "  Также можно узнать номер этого минимального бина непосредственно по рисунку, а именно, **девять**. Он соответствует расстояниям примерно от 1600 до 1800 км. То есть за границу между короткими и средними перелётами разумно взять значение   **1700 км**.\n",
    "  \n",
    "  За границу, разделяющую средние и дальние полёты, можно принять **3000 км**, например (в этой области полёты отсутствуют вовсе)\n",
    "  \n",
    "  Непосредственно под пай-чартом выведены аэропорты, куда следуют полёты средней дистанции. Большинство этих аэропортов находятся на западном побережье США. Лететь вглубь материка, не долетая до берега, не имеет смысла - там находятся горы.\n",
    "  \n",
    "  Таким образом, можно сказать, что короткие полёты отличаются от средних полётов тем, что не пересекают горы на западе США."
   ]
  },
  {
   "cell_type": "markdown",
   "id": "09e1ee18",
   "metadata": {},
   "source": [
    "  Узнаем, куда летят самолеты на дальние дистанции. (Гавайи?)"
   ]
  },
  {
   "cell_type": "code",
   "execution_count": 4,
   "id": "5e3f210f",
   "metadata": {},
   "outputs": [
    {
     "name": "stdout",
     "output_type": "stream",
     "text": [
      "['ANC' 'HNL']\n"
     ]
    }
   ],
   "source": [
    "farDest = np.unique(long['dest'])\n",
    "print(farDest)"
   ]
  },
  {
   "cell_type": "markdown",
   "id": "590633c1",
   "metadata": {},
   "source": [
    "ANC - аэропорт в **Аляске**, HNL - **гавайский** аэропорт."
   ]
  },
  {
   "cell_type": "markdown",
   "id": "821643ae",
   "metadata": {},
   "source": [
    "  Ниже получены среднее время задержки отлёта для каждой группы."
   ]
  },
  {
   "cell_type": "code",
   "execution_count": 5,
   "id": "369d718f",
   "metadata": {},
   "outputs": [
    {
     "name": "stdout",
     "output_type": "stream",
     "text": [
      "Средняя задержка отлётов для рейсов на короткие дистанции:  12.916593451648803\n",
      "Средняя задержка отлётов для рейсов на средние дистанции:  10.75103330902018\n",
      "Средняя задержка отлётов для рейсов на длинные дистанции:  9.355430183356841\n"
     ]
    }
   ],
   "source": [
    "print(\"Средняя задержка отлётов для рейсов на короткие дистанции: \", short.dep_delay.mean(numeric_only=True))\n",
    "print(\"Средняя задержка отлётов для рейсов на средние дистанции: \", medium.dep_delay.mean(numeric_only=True))\n",
    "print(\"Средняя задержка отлётов для рейсов на длинные дистанции: \", long.dep_delay.mean(numeric_only=True))"
   ]
  },
  {
   "cell_type": "markdown",
   "id": "c9428178",
   "metadata": {},
   "source": [
    "# Задание 3"
   ]
  },
  {
   "cell_type": "markdown",
   "id": "dd6f3683",
   "metadata": {},
   "source": [
    "Задание: \n",
    "0) Нарисуйте график среднего времени задержки вылета по месяцам \n",
    "1) Отметьте на нем границы доверительных интервалов с уровнем доверия 0.95. \n",
    "2) С помощью подходящего статистического теста проверьте, можно ли принять гипотезу о равенстве средних в январе и феврале на уровне значимости 0.05? на уровне значимости 0.01?"
   ]
  },
  {
   "cell_type": "code",
   "execution_count": 6,
   "id": "9052f42a",
   "metadata": {},
   "outputs": [
    {
     "data": {
      "text/plain": [
       "<ErrorbarContainer object of 3 artists>"
      ]
     },
     "execution_count": 6,
     "metadata": {},
     "output_type": "execute_result"
    },
    {
     "data": {
      "image/png": "[encoded data removed]",
      "text/plain": [
       "<Figure size 1200x800 with 1 Axes>"
      ]
     },
     "metadata": {},
     "output_type": "display_data"
    }
   ],
   "source": [
    "import calendar\n",
    "\n",
    "months = calendar.month_name              #Названия месяцев\n",
    "averDepDelay = pd.Series(dtype='float64') #Названия месяцев\n",
    "err = pd.Series(dtype='float64')\n",
    "\n",
    "for i in range(1,13):\n",
    "    dfTemp = df.loc[df.month == i].dep_delay\n",
    "    averDepDelay[months[i]] = dfTemp.mean(numeric_only=True)\n",
    "    quantile = 1.64               #Квантиль уровня доверия 0,95\n",
    "    std = np.std(dfTemp)          #Стандартное отклонение выборки за месяц\n",
    "    n = len(dfTemp)               #Количество вылетов за данный месяц\n",
    "    err[months[i]] = quantile*std/np.sqrt(n) #Собственно вычисление доверительного интервала\n",
    "\n",
    "fig4 = plt.figure(figsize=(12,8))\n",
    "ax = fig4.add_subplot()\n",
    "ax.bar(averDepDelay.index, averDepDelay)\n",
    "plt.errorbar(averDepDelay.index, averDepDelay, yerr=err, capsize=3, fmt=\" \", ecolor=\"black\")"
   ]
  },
  {
   "cell_type": "markdown",
   "id": "7dfe89af",
   "metadata": {},
   "source": [
    "Воспользуемся t-тестом (тестом Стьюдента), чтобы ответить на второй вопрос задачи: равны ли математические ожидания за январь и февраль?"
   ]
  },
  {
   "cell_type": "code",
   "execution_count": 11,
   "id": "fc5953e9",
   "metadata": {},
   "outputs": [
    {
     "name": "stdout",
     "output_type": "stream",
     "text": [
      "Можно видеть, что стандартные отклонения распределений примерно равны: 36.30837308426437 , 36.16708113045192\n",
      "Вычислим эмпирическую статистку\n",
      "t = 2.3870649797889074\n",
      "Уровню значимости 0.05 соответствует уровню доверия 0,975, а уровню значимости 0.01 соответствует уровню доверия 0,995.\n"
     ]
    },
    {
     "data": {
      "text/html": [
       "<div>\n",
       "<style scoped>\n",
       "    .dataframe tbody tr th:only-of-type {\n",
       "        vertical-align: middle;\n",
       "    }\n",
       "\n",
       "    .dataframe tbody tr th {\n",
       "        vertical-align: top;\n",
       "    }\n",
       "\n",
       "    .dataframe thead th {\n",
       "        text-align: right;\n",
       "    }\n",
       "</style>\n",
       "<table border=\"1\" class=\"dataframe\">\n",
       "  <thead>\n",
       "    <tr style=\"text-align: right;\">\n",
       "      <th></th>\n",
       "      <th>year</th>\n",
       "      <th>month</th>\n",
       "      <th>day</th>\n",
       "      <th>dep_time</th>\n",
       "      <th>dep_delay</th>\n",
       "      <th>arr_time</th>\n",
       "      <th>arr_delay</th>\n",
       "      <th>carrier</th>\n",
       "      <th>tailnum</th>\n",
       "      <th>flight</th>\n",
       "      <th>origin</th>\n",
       "      <th>dest</th>\n",
       "      <th>air_time</th>\n",
       "      <th>distance</th>\n",
       "    </tr>\n",
       "  </thead>\n",
       "  <tbody>\n",
       "    <tr>\n",
       "      <th>0</th>\n",
       "      <td>2013</td>\n",
       "      <td>1</td>\n",
       "      <td>1</td>\n",
       "      <td>517.0</td>\n",
       "      <td>2.0</td>\n",
       "      <td>830.0</td>\n",
       "      <td>11.0</td>\n",
       "      <td>UA</td>\n",
       "      <td>N14228</td>\n",
       "      <td>1545</td>\n",
       "      <td>EWR</td>\n",
       "      <td>IAH</td>\n",
       "      <td>227.0</td>\n",
       "      <td>1400</td>\n",
       "    </tr>\n",
       "    <tr>\n",
       "      <th>1</th>\n",
       "      <td>2013</td>\n",
       "      <td>1</td>\n",
       "      <td>1</td>\n",
       "      <td>533.0</td>\n",
       "      <td>4.0</td>\n",
       "      <td>850.0</td>\n",
       "      <td>20.0</td>\n",
       "      <td>UA</td>\n",
       "      <td>N24211</td>\n",
       "      <td>1714</td>\n",
       "      <td>LGA</td>\n",
       "      <td>IAH</td>\n",
       "      <td>227.0</td>\n",
       "      <td>1416</td>\n",
       "    </tr>\n",
       "    <tr>\n",
       "      <th>2</th>\n",
       "      <td>2013</td>\n",
       "      <td>1</td>\n",
       "      <td>1</td>\n",
       "      <td>542.0</td>\n",
       "      <td>2.0</td>\n",
       "      <td>923.0</td>\n",
       "      <td>33.0</td>\n",
       "      <td>AA</td>\n",
       "      <td>N619AA</td>\n",
       "      <td>1141</td>\n",
       "      <td>JFK</td>\n",
       "      <td>MIA</td>\n",
       "      <td>160.0</td>\n",
       "      <td>1089</td>\n",
       "    </tr>\n",
       "    <tr>\n",
       "      <th>3</th>\n",
       "      <td>2013</td>\n",
       "      <td>1</td>\n",
       "      <td>1</td>\n",
       "      <td>544.0</td>\n",
       "      <td>-1.0</td>\n",
       "      <td>1004.0</td>\n",
       "      <td>-18.0</td>\n",
       "      <td>B6</td>\n",
       "      <td>N804JB</td>\n",
       "      <td>725</td>\n",
       "      <td>JFK</td>\n",
       "      <td>BQN</td>\n",
       "      <td>183.0</td>\n",
       "      <td>1576</td>\n",
       "    </tr>\n",
       "    <tr>\n",
       "      <th>4</th>\n",
       "      <td>2013</td>\n",
       "      <td>1</td>\n",
       "      <td>1</td>\n",
       "      <td>554.0</td>\n",
       "      <td>-6.0</td>\n",
       "      <td>812.0</td>\n",
       "      <td>-25.0</td>\n",
       "      <td>DL</td>\n",
       "      <td>N668DN</td>\n",
       "      <td>461</td>\n",
       "      <td>LGA</td>\n",
       "      <td>ATL</td>\n",
       "      <td>116.0</td>\n",
       "      <td>762</td>\n",
       "    </tr>\n",
       "    <tr>\n",
       "      <th>...</th>\n",
       "      <td>...</td>\n",
       "      <td>...</td>\n",
       "      <td>...</td>\n",
       "      <td>...</td>\n",
       "      <td>...</td>\n",
       "      <td>...</td>\n",
       "      <td>...</td>\n",
       "      <td>...</td>\n",
       "      <td>...</td>\n",
       "      <td>...</td>\n",
       "      <td>...</td>\n",
       "      <td>...</td>\n",
       "      <td>...</td>\n",
       "      <td>...</td>\n",
       "    </tr>\n",
       "    <tr>\n",
       "      <th>336765</th>\n",
       "      <td>2013</td>\n",
       "      <td>9</td>\n",
       "      <td>30</td>\n",
       "      <td>2240.0</td>\n",
       "      <td>-5.0</td>\n",
       "      <td>2334.0</td>\n",
       "      <td>-17.0</td>\n",
       "      <td>B6</td>\n",
       "      <td>N354JB</td>\n",
       "      <td>1816</td>\n",
       "      <td>JFK</td>\n",
       "      <td>SYR</td>\n",
       "      <td>41.0</td>\n",
       "      <td>209</td>\n",
       "    </tr>\n",
       "    <tr>\n",
       "      <th>336766</th>\n",
       "      <td>2013</td>\n",
       "      <td>9</td>\n",
       "      <td>30</td>\n",
       "      <td>2240.0</td>\n",
       "      <td>-10.0</td>\n",
       "      <td>2347.0</td>\n",
       "      <td>-20.0</td>\n",
       "      <td>B6</td>\n",
       "      <td>N281JB</td>\n",
       "      <td>2002</td>\n",
       "      <td>JFK</td>\n",
       "      <td>BUF</td>\n",
       "      <td>52.0</td>\n",
       "      <td>301</td>\n",
       "    </tr>\n",
       "    <tr>\n",
       "      <th>336767</th>\n",
       "      <td>2013</td>\n",
       "      <td>9</td>\n",
       "      <td>30</td>\n",
       "      <td>2241.0</td>\n",
       "      <td>-5.0</td>\n",
       "      <td>2345.0</td>\n",
       "      <td>-16.0</td>\n",
       "      <td>B6</td>\n",
       "      <td>N346JB</td>\n",
       "      <td>486</td>\n",
       "      <td>JFK</td>\n",
       "      <td>ROC</td>\n",
       "      <td>47.0</td>\n",
       "      <td>264</td>\n",
       "    </tr>\n",
       "    <tr>\n",
       "      <th>336768</th>\n",
       "      <td>2013</td>\n",
       "      <td>9</td>\n",
       "      <td>30</td>\n",
       "      <td>2307.0</td>\n",
       "      <td>12.0</td>\n",
       "      <td>2359.0</td>\n",
       "      <td>1.0</td>\n",
       "      <td>B6</td>\n",
       "      <td>N565JB</td>\n",
       "      <td>718</td>\n",
       "      <td>JFK</td>\n",
       "      <td>BOS</td>\n",
       "      <td>33.0</td>\n",
       "      <td>187</td>\n",
       "    </tr>\n",
       "    <tr>\n",
       "      <th>336769</th>\n",
       "      <td>2013</td>\n",
       "      <td>9</td>\n",
       "      <td>30</td>\n",
       "      <td>2349.0</td>\n",
       "      <td>-10.0</td>\n",
       "      <td>325.0</td>\n",
       "      <td>-25.0</td>\n",
       "      <td>B6</td>\n",
       "      <td>N516JB</td>\n",
       "      <td>745</td>\n",
       "      <td>JFK</td>\n",
       "      <td>PSE</td>\n",
       "      <td>196.0</td>\n",
       "      <td>1617</td>\n",
       "    </tr>\n",
       "  </tbody>\n",
       "</table>\n",
       "<p>327346 rows × 14 columns</p>\n",
       "</div>"
      ],
      "text/plain": [
       "        year  month  day  dep_time  dep_delay  arr_time  arr_delay carrier  \\\n",
       "0       2013      1    1     517.0        2.0     830.0       11.0      UA   \n",
       "1       2013      1    1     533.0        4.0     850.0       20.0      UA   \n",
       "2       2013      1    1     542.0        2.0     923.0       33.0      AA   \n",
       "3       2013      1    1     544.0       -1.0    1004.0      -18.0      B6   \n",
       "4       2013      1    1     554.0       -6.0     812.0      -25.0      DL   \n",
       "...      ...    ...  ...       ...        ...       ...        ...     ...   \n",
       "336765  2013      9   30    2240.0       -5.0    2334.0      -17.0      B6   \n",
       "336766  2013      9   30    2240.0      -10.0    2347.0      -20.0      B6   \n",
       "336767  2013      9   30    2241.0       -5.0    2345.0      -16.0      B6   \n",
       "336768  2013      9   30    2307.0       12.0    2359.0        1.0      B6   \n",
       "336769  2013      9   30    2349.0      -10.0     325.0      -25.0      B6   \n",
       "\n",
       "       tailnum  flight origin dest  air_time  distance  \n",
       "0       N14228    1545    EWR  IAH     227.0      1400  \n",
       "1       N24211    1714    LGA  IAH     227.0      1416  \n",
       "2       N619AA    1141    JFK  MIA     160.0      1089  \n",
       "3       N804JB     725    JFK  BQN     183.0      1576  \n",
       "4       N668DN     461    LGA  ATL     116.0       762  \n",
       "...        ...     ...    ...  ...       ...       ...  \n",
       "336765  N354JB    1816    JFK  SYR      41.0       209  \n",
       "336766  N281JB    2002    JFK  BUF      52.0       301  \n",
       "336767  N346JB     486    JFK  ROC      47.0       264  \n",
       "336768  N565JB     718    JFK  BOS      33.0       187  \n",
       "336769  N516JB     745    JFK  PSE     196.0      1617  \n",
       "\n",
       "[327346 rows x 14 columns]"
      ]
     },
     "execution_count": 11,
     "metadata": {},
     "output_type": "execute_result"
    }
   ],
   "source": [
    "dfTemp1 = df.loc[df.month == 1].dep_delay\n",
    "dfTemp2 = df.loc[df.month == 2].dep_delay\n",
    "JanMean = dfTemp1.mean(numeric_only=True)\n",
    "FebMean = dfTemp2.mean(numeric_only=True)\n",
    "\n",
    "std1 = np.std(dfTemp1)            #Стандартное отклонение выборки за январь\n",
    "std2 = np.std(dfTemp2)            #Стандартное отклонение выборки за февраль\n",
    "print(\"Можно видеть, что стандартные отклонения распределений примерно равны:\", std1,',', std2)\n",
    "\n",
    "n1 = len(dfTemp1)  #Количество вылетов за январь\n",
    "n2 = len(dfTemp2)  #Количество вылетов за февраль\n",
    "tCrit = np.abs((JanMean-FebMean)/np.sqrt(std1**2/n1 + std2**2/n2))\n",
    "print('Вычислим эмпирическую статистку')\n",
    "print(\"t =\", tCrit)\n",
    "print(\"Уровню значимости 0.05 соответствует уровню доверия 0,975, а уровню значимости 0.01 соответствует уровню доверия 0,995.\")\n",
    "df"
   ]
  },
  {
   "cell_type": "markdown",
   "id": "1295b805",
   "metadata": {},
   "source": [
    "Согласно таблицам, при большом числе степеней свободы уровню значимости 0.05 соответствует p = 1,960. Полученное нами значение больше, а следовательно гипотезу о равенстве средних следует отвергнуть.\n",
    "\n",
    "Уровню значимости 0.01 соответствует p = 2,576, что больше полученной статистики. Это значит, что на таком уровне значимости гипотезу можно принять."
   ]
  },
  {
   "cell_type": "markdown",
   "id": "0ac0bee5",
   "metadata": {},
   "source": [
    "# Задание 4"
   ]
  },
  {
   "cell_type": "markdown",
   "id": "1f374ef8",
   "metadata": {},
   "source": [
    "Задание: 0) Найдите коэффициент корреляции между расстоянием distance и временем полета air_time. \n",
    "    \n",
    "1) Постройте точечную диаграмму в осях distance (х) и air_time (y). \n",
    "2) Найдите коэффициенты линейной регрессии и нанесите полученную прямую на график. \n",
    "3) Как можно интерпретировать смысл коэффициентов полученной линейной модели?"
   ]
  },
  {
   "cell_type": "markdown",
   "id": "13b21226",
   "metadata": {},
   "source": [
    "Вычислим коэффициент корреляции между расстоянием и временем полёта. $corr(X,Y) = \\frac{cov(X,Y)}{\\sqrt{cov(X,X)(Y,Y)}}$\n",
    "\n",
    "$cov(X,Y) = \\frac{\\sum (x_i - \\bar x)(y_i-\\bar y)}{n-1}$"
   ]
  },
  {
   "cell_type": "code",
   "execution_count": 47,
   "id": "29b0ceac",
   "metadata": {},
   "outputs": [
    {
     "name": "stdout",
     "output_type": "stream",
     "text": [
      "Коэффициент корреляции между расстоянием и временем полёта равен 0.9906526735416832\n",
      "\n"
     ]
    }
   ],
   "source": [
    "flightData = df.loc[:, ['distance', 'air_time']]\n",
    "meanD = flightData.distance.mean(numeric_only=True)\n",
    "meanT = flightData.air_time.mean(numeric_only=True)\n",
    "stdD = np.std(flightData.distance)\n",
    "stdT = np.std(flightData.air_time)\n",
    "n = flightData.shape[0]\n",
    "\n",
    "cov = ((flightData.distance - meanD)*(flightData.air_time - meanT)).sum() / (n-1)\n",
    "corr = cov/(stdD*stdT)\n",
    "\n",
    "\n",
    "print(\"Коэффициент корреляции между расстоянием и временем полёта равен\",corr)\n",
    "print(\"\")"
   ]
  },
  {
   "cell_type": "markdown",
   "id": "a54b71eb",
   "metadata": {},
   "source": [
    "Построим точечную диаграмму и нанесём на неё прямую линейной регрессии:"
   ]
  },
  {
   "cell_type": "markdown",
   "id": "64079d2d",
   "metadata": {},
   "source": [
    "Чтобы получить коэффициенты линейной регрессии, воспользуемся методом наименьших квадратов (МНК), то есть минимизируем сумму квадратов отклонений, возникающую при приближении данных некоторой прямой.\n",
    "\n",
    "$y = b_0 + b_1x$, где\n",
    "$b_1 = \\frac{\\sum (x_i-\\bar x)(y_i -\\bar y)}{\\sum (x_i-\\bar x)^2}$, $b_0 = \\bar y - b_1 \\bar x$"
   ]
  },
  {
   "cell_type": "code",
   "execution_count": 57,
   "id": "45d762f8",
   "metadata": {},
   "outputs": [
    {
     "data": {
      "text/plain": [
       "[<matplotlib.lines.Line2D at 0x172c54ed7e0>]"
      ]
     },
     "execution_count": 57,
     "metadata": {},
     "output_type": "execute_result"
    },
    {
     "data": {
      "image/png": "[encoded data removed]",
      "text/plain": [
       "<Figure size 1400x800 with 1 Axes>"
      ]
     },
     "metadata": {},
     "output_type": "display_data"
    }
   ],
   "source": [
    "b1 = ((flightData.distance - meanD)*(flightData.air_time - meanT)).sum() / ((flightData.distance - meanD)**2).sum()\n",
    "b0 = meanT - b1*meanD\n",
    "x = np.linspace(0,5000,100)\n",
    "y = b0 + b1*x\n",
    "\n",
    "fig5 = plt.figure(figsize=(14,8))\n",
    "ax4 = fig5.add_subplot()\n",
    "plt.xlabel(\"Расстояние, км\")\n",
    "plt.ylabel(\"Время полёта, мин\")\n",
    "plt.scatter(flightData.distance, flightData.air_time, s=0.7)\n",
    "ax4.plot(x,y, color = \"b\")"
   ]
  },
  {
   "cell_type": "markdown",
   "id": "467e5881",
   "metadata": {},
   "source": [
    "Каков смысл коэффициентов регрессии?\n",
    "\n",
    "Прямая имеет вид $T = \\frac{1}{v}S + T0$ или же $\\frac{T-T0}{b_1} = S$"
   ]
  },
  {
   "cell_type": "code",
   "execution_count": 49,
   "id": "9920e9f3",
   "metadata": {},
   "outputs": [
    {
     "name": "stdout",
     "output_type": "stream",
     "text": [
      "b0 = 18.466578127760386\n",
      "b1 = 0.12611932467386064\n"
     ]
    }
   ],
   "source": [
    "print(\"b0 =\", b0)\n",
    "print(\"b1 =\", b1)"
   ]
  },
  {
   "cell_type": "markdown",
   "id": "7a44ee20",
   "metadata": {},
   "source": [
    "Я считаю, что коэффициент b1 имеет смысл обратной скорости (время, необходимое на преодоление того или иного расстояния \"средним\" самолётом в мин/км), а коэффициент b0 - время (в минутах), уходящее в среднем на взлёт и на посадку, когда самолёт кружит над аэропортом (это объясняет тот факт, что при нулевом расстоянии между взлётом и посадкой проходит какое-то время)."
   ]
  },
  {
   "cell_type": "markdown",
   "id": "2c20ef49",
   "metadata": {},
   "source": [
    "# Задание 5"
   ]
  },
  {
   "cell_type": "markdown",
   "id": "d90a7b0c",
   "metadata": {},
   "source": [
    "Задание: \n",
    "0) Постройте нормированную гистограмму распределения задержки прилета по тем рейсам, которые вылетели в пределах +/-15 минут от времени в расписании. \n",
    "1) Сделайте предположение о том, каким распределением может описываться полученная гистограмма. \n",
    "2) Оцените параметры этого распределения и нанесите график плотности на график с гистограммой."
   ]
  },
  {
   "cell_type": "markdown",
   "id": "19495428",
   "metadata": {},
   "source": [
    "Построим нормированную гистограмму распределения задержки прилёта, то есть зависимость эмпириической вероятности той или иной задержки от величины этой задержки."
   ]
  },
  {
   "cell_type": "code",
   "execution_count": 114,
   "id": "9baa5b11",
   "metadata": {},
   "outputs": [
    {
     "data": {
      "image/png": "[encoded data removed]",
      "text/plain": [
       "<Figure size 700x400 with 1 Axes>"
      ]
     },
     "metadata": {},
     "output_type": "display_data"
    },
    {
     "name": "stdout",
     "output_type": "stream",
     "text": [
      "6.89537675731489 44.63322351565551\n"
     ]
    }
   ],
   "source": [
    "arr_delays = df.arr_delay\n",
    "fig6 = plt.figure(figsize=(7,4))\n",
    "\n",
    "x=np.linspace(-300,300,300)\n",
    "ax5 = plt.subplot(1,1,1)\n",
    "ax5.hist(arr_delays, x, density = True)\n",
    "ax5.grid()\n",
    "plt.show()\n",
    "print(arr_delays.mean(numeric_only=True), np.std(arr_delays))"
   ]
  },
  {
   "cell_type": "markdown",
   "id": "fd77a5b1",
   "metadata": {},
   "source": [
    "Предположим, что распределение подчинено нормальному закону. $p(x) = \\frac{1}{\\sqrt{2\\pi} σ }\\exp(-\\frac{(x-\\bar x)^2}{2σ^2})$.\n",
    "\n",
    "Параметры распределения оценим из предложенной выборки.\n"
   ]
  },
  {
   "cell_type": "code",
   "execution_count": 115,
   "id": "c4b48066",
   "metadata": {},
   "outputs": [
    {
     "data": {
      "image/png": "[encoded data removed]",
      "text/plain": [
       "<Figure size 700x400 with 1 Axes>"
      ]
     },
     "execution_count": 115,
     "metadata": {},
     "output_type": "execute_result"
    }
   ],
   "source": [
    "std = np.std(arr_delays)\n",
    "av = arr_delays.mean(numeric_only=True)\n",
    "y = 1/(np.sqrt(2*np.pi*std**2))*np.exp(-(x-av)**2/(2*std**2))\n",
    "ax5.plot(x,y, color=\"black\")\n",
    "fig6"
   ]
  },
  {
   "cell_type": "markdown",
   "id": "8a73cbae",
   "metadata": {},
   "source": [
    "Как видим, нормальное распределение плохо описывает поведение данных. Вообще, следует подбирать несимметричные распределения - самолет навряд ли прибудет на полчаса раньше, но может опоздать на целый час и более (как пример)."
   ]
  }
 ],
 "metadata": {
  "kernelspec": {
   "display_name": "Python 3 (ipykernel)",
   "language": "python",
   "name": "python3"
  },
  "language_info": {
   "codemirror_mode": {
    "name": "ipython",
    "version": 3
   },
   "file_extension": ".py",
   "mimetype": "text/x-python",
   "name": "python",
   "nbconvert_exporter": "python",
   "pygments_lexer": "ipython3",
   "version": "3.10.9"
  }
 },
 "nbformat": 4,
 "nbformat_minor": 5
}
